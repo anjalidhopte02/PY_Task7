{
 "cells": [
  {
   "cell_type": "markdown",
   "metadata": {},
   "source": [
    "# Task7\n",
    "* AND,OR,NOT,Function inside function, short hand loop feature,case and math."
   ]
  },
  {
   "cell_type": "markdown",
   "metadata": {},
   "source": [
    "### AND Operator\n",
    "* AND: Returns True if both operands are True, otherwise returns False\n"
   ]
  },
  {
   "cell_type": "code",
   "execution_count": 10,
   "metadata": {},
   "outputs": [
    {
     "name": "stdout",
     "output_type": "stream",
     "text": [
      "numb = False\n"
     ]
    }
   ],
   "source": [
    "def number(num, num1):\n",
    "    \n",
    "    if isinstance(num, int) and isinstance(num1, int):\n",
    "        if num > 10 and num1 < 30:\n",
    "            return 'True'\n",
    "        else:\n",
    "            return 'False'\n",
    "    else:\n",
    "        return 'number is invalid'\n",
    "\n",
    "\n",
    "result = number(12, 33)\n",
    "print(f\"numb = {result}\")"
   ]
  },
  {
   "cell_type": "markdown",
   "metadata": {},
   "source": [
    "### OR Operator\n",
    "* OR: Returns True if at least one operand is True, otherwise returns False."
   ]
  },
  {
   "cell_type": "code",
   "execution_count": 11,
   "metadata": {},
   "outputs": [
    {
     "name": "stdout",
     "output_type": "stream",
     "text": [
      "age_category = You are eligible for a discount.\n"
     ]
    }
   ],
   "source": [
    "def createUserData(age):\n",
    "    age_category = ''\n",
    "    if type(age) == int:\n",
    "        if age < 18 or age > 65:\n",
    "            age_category = 'You are eligible for a discount.'\n",
    "        else:\n",
    "            age_category = 'You are not eligible for a discount.'\n",
    "    else:\n",
    "        age_category = 'Age is invalid'\n",
    "    return age_category\n",
    "\n",
    "result = createUserData(12)\n",
    "print(f\"age_category = {result}\")\n"
   ]
  },
  {
   "cell_type": "code",
   "execution_count": 12,
   "metadata": {},
   "outputs": [
    {
     "name": "stdout",
     "output_type": "stream",
     "text": [
      "You are eligible for a discount.\n"
     ]
    }
   ],
   "source": [
    "userdata = createUserData(12)\n",
    "print(userdata )"
   ]
  },
  {
   "cell_type": "markdown",
   "metadata": {},
   "source": [
    "### NOT Operator\n",
    "* NOT: Inverts the truth value of its operand (e.g., NOT True is False).   \n"
   ]
  },
  {
   "cell_type": "code",
   "execution_count": 13,
   "metadata": {},
   "outputs": [
    {
     "name": "stdout",
     "output_type": "stream",
     "text": [
      "age_category = You are eligible for a discount.\n"
     ]
    }
   ],
   "source": [
    "def createUserData(age):\n",
    "    age_category = ''\n",
    "    if type(age) == int:\n",
    "        if not(age < 18 or age > 65):\n",
    "            age_category = 'You are not eligible for a discount.'\n",
    "        else:\n",
    "            age_category = 'You are eligible for a discount.'\n",
    "    else:\n",
    "        age_category = 'Age is invalid'\n",
    "    return age_category\n",
    "\n",
    "result = createUserData(12)\n",
    "print(f\"age_category = {result}\")"
   ]
  },
  {
   "cell_type": "markdown",
   "metadata": {},
   "source": [
    "### Short hand feature\n",
    "* An executable statement, written in so compact manner that it comprises of only a single line of code is known as shorthand statement.\n",
    "* Python supports many sorts of shorthand statements and with the help of these statements, we can write our code in a more compact sort or form using less space."
   ]
  },
  {
   "cell_type": "code",
   "execution_count": 14,
   "metadata": {},
   "outputs": [
    {
     "name": "stdout",
     "output_type": "stream",
     "text": [
      "[1, 4, 9, 16, 25, 36, 49]\n"
     ]
    }
   ],
   "source": [
    "# Square\n",
    "n1=[1,2,3,4,5,6,7]\n",
    "square = [x**2 for x in n1]\n",
    "print(square)"
   ]
  },
  {
   "cell_type": "code",
   "execution_count": 15,
   "metadata": {},
   "outputs": [
    {
     "name": "stdout",
     "output_type": "stream",
     "text": [
      "[1, 8, 27, 64, 125, 216, 343]\n"
     ]
    }
   ],
   "source": [
    "# cube\n",
    "n2=[1,2,3,4,5,6,7]\n",
    "cube = [x**3 for x in n2]\n",
    "print(cube)"
   ]
  },
  {
   "cell_type": "code",
   "execution_count": 16,
   "metadata": {},
   "outputs": [
    {
     "name": "stdout",
     "output_type": "stream",
     "text": [
      "{1: 'xyz', 2: 'abc', 3: 'pqr'}\n"
     ]
    }
   ],
   "source": [
    "id = [1, 2, 3]\n",
    "name = ['xyz', 'abc', 'pqr']\n",
    "\n",
    "dict = {user_id: user_name for user_id, user_name in zip(id, name)}\n",
    "\n",
    "print(dict)"
   ]
  },
  {
   "cell_type": "markdown",
   "metadata": {},
   "source": [
    "### Function inside function\n",
    "* Python allows you to define functions within other functions, creating nested functions. \n",
    "* This can be useful for organizing code and creating reusable logic."
   ]
  },
  {
   "cell_type": "code",
   "execution_count": 17,
   "metadata": {},
   "outputs": [
    {
     "name": "stdout",
     "output_type": "stream",
     "text": [
      "11\n"
     ]
    }
   ],
   "source": [
    "def increment(number):\n",
    "    def inner_increment():\n",
    "        return number + 1\n",
    "\n",
    "    result = inner_increment()\n",
    "    return result\n",
    "\n",
    "result = increment(10)\n",
    "print(result)"
   ]
  },
  {
   "cell_type": "code",
   "execution_count": 18,
   "metadata": {},
   "outputs": [
    {
     "name": "stdout",
     "output_type": "stream",
     "text": [
      "Hi, Anjali D!\n"
     ]
    }
   ],
   "source": [
    "def getname(first, last):\n",
    "  def getFullName():\n",
    "    return first + \" \" + last\n",
    "\n",
    "  print(\"Hi, \" + getFullName() + \"!\")\n",
    "\n",
    "getname('Anjali', 'D')"
   ]
  },
  {
   "cell_type": "markdown",
   "metadata": {},
   "source": [
    "### Case\n"
   ]
  },
  {
   "cell_type": "code",
   "execution_count": 3,
   "metadata": {},
   "outputs": [
    {
     "name": "stdout",
     "output_type": "stream",
     "text": [
      "Average\n"
     ]
    }
   ],
   "source": [
    "def get_grade_category(grade):\n",
    "    match grade:\n",
    "       case _ if grade>=90:\n",
    "        return \"Excellent\"\n",
    "       case _ if grade<90 and grade>=80:\n",
    "        return \"Good\"\n",
    "       case _ if grade<80 and grade>=70:\n",
    "         return \"Average\"\n",
    "       case _:\n",
    "        return \"Below average\"\n",
    "grade=79\n",
    "grade_category = get_grade_category(grade)\n",
    "print(grade_category)\n"
   ]
  },
  {
   "cell_type": "code",
   "execution_count": 2,
   "metadata": {},
   "outputs": [
    {
     "name": "stdout",
     "output_type": "stream",
     "text": [
      "Adult\n"
     ]
    }
   ],
   "source": [
    "def get_age_category(age):\n",
    "    match age:\n",
    "        case _ if age==0:\n",
    "            return \"Infant\"\n",
    "        case _ if age>=11 and age<=19:\n",
    "            return \"Teenager\"\n",
    "        case _ if age>19:\n",
    "            return \"Adult\"\n",
    "\n",
    "age = 32\n",
    "age_category = get_age_category(age)\n",
    "print(age_category)"
   ]
  },
  {
   "cell_type": "markdown",
   "metadata": {},
   "source": [
    "### Math"
   ]
  },
  {
   "cell_type": "code",
   "execution_count": 21,
   "metadata": {},
   "outputs": [
    {
     "name": "stdout",
     "output_type": "stream",
     "text": [
      "5.0\n"
     ]
    }
   ],
   "source": [
    "import math\n",
    "\n",
    "result = math.sqrt(25)\n",
    "print(result)  "
   ]
  }
 ],
 "metadata": {
  "kernelspec": {
   "display_name": "Python 3",
   "language": "python",
   "name": "python3"
  },
  "language_info": {
   "codemirror_mode": {
    "name": "ipython",
    "version": 3
   },
   "file_extension": ".py",
   "mimetype": "text/x-python",
   "name": "python",
   "nbconvert_exporter": "python",
   "pygments_lexer": "ipython3",
   "version": "3.12.5"
  }
 },
 "nbformat": 4,
 "nbformat_minor": 2
}
